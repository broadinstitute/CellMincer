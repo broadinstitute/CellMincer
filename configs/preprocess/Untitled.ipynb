{
 "cells": [
  {
   "cell_type": "code",
   "execution_count": 2,
   "id": "ee86b334",
   "metadata": {},
   "outputs": [],
   "source": [
    "import os\n",
    "import numpy as np\n",
    "\n",
    "def trim_segments(movie_txy, len_segment, trim_left, trim_right):\n",
    "    return np.concatenate([movie_txy[i + trim_left:i + len_segment - trim_right] for i in range(0, len(movie_txy), len_segment)])"
   ]
  },
  {
   "cell_type": "code",
   "execution_count": 4,
   "id": "162dbe6d",
   "metadata": {},
   "outputs": [],
   "source": [
    "clean = np.load('/home/jupyter/bw-data/Optosynth/optosynth_first_wave__1__20__50/clean_movie_tyx.npz')['arr_0']\n",
    "np.save('/home/jupyter/bw-data/cellmincer/data/optosynth_first_wave__1__20__50/clean_movie_tyx.npy', trim_segments(clean, 1000, 0, 100))"
   ]
  },
  {
   "cell_type": "code",
   "execution_count": null,
   "id": "86a1c5f0",
   "metadata": {},
   "outputs": [],
   "source": []
  }
 ],
 "metadata": {
  "environment": {
   "name": "pytorch-gpu.1-8.m71",
   "type": "gcloud",
   "uri": "gcr.io/deeplearning-platform-release/pytorch-gpu.1-8:m71"
  },
  "kernelspec": {
   "display_name": "Python 3",
   "language": "python",
   "name": "python3"
  },
  "language_info": {
   "codemirror_mode": {
    "name": "ipython",
    "version": 3
   },
   "file_extension": ".py",
   "mimetype": "text/x-python",
   "name": "python",
   "nbconvert_exporter": "python",
   "pygments_lexer": "ipython3",
   "version": "3.7.10"
  }
 },
 "nbformat": 4,
 "nbformat_minor": 5
}
