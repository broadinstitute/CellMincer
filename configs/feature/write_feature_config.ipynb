{
 "cells": [
  {
   "cell_type": "code",
   "execution_count": 2,
   "id": "653f65a8",
   "metadata": {},
   "outputs": [],
   "source": [
    "import yaml\n",
    "import os"
   ]
  },
  {
   "cell_type": "code",
   "execution_count": null,
   "id": "97f9ed87",
   "metadata": {},
   "outputs": [],
   "source": [
    "name = 'new-optosynth'\n",
    "\n",
    "config = {\n",
    "    'device': 'cpu',\n",
    "    'log_dir': '/home/jupyter/bw-data/cellmincer/logs',\n",
    "    \n",
    "    'datasets': [\n",
    "        'optosynth_first_wave__1__20__50',\n",
    "        'optosynth_first_wave__2__20__50',\n",
    "        'optosynth_first_wave__3__20__50',\n",
    "        'optosynth_first_wave__4__20__50',\n",
    "        'optosynth_first_wave__5__20__50'\n",
    "    ]\n",
    "}\n",
    "\n",
    "with open(f'{name}.yaml', 'w') as file:\n",
    "    yaml.dump(config, file)"
   ]
  },
  {
   "cell_type": "code",
   "execution_count": 3,
   "id": "bc53fe71",
   "metadata": {},
   "outputs": [],
   "source": [
    "name = 'optosynth-1'\n",
    "\n",
    "config = {\n",
    "    'device': 'cpu',\n",
    "    'root_data_dir': '/home/jupyter/bw-data/cellmincer/data',\n",
    "    'log_dir': '/home/jupyter/bw-data/cellmincer/logs',\n",
    "    \n",
    "    'datasets': [\n",
    "        'optosynth_first_wave__1__20__50',\n",
    "        'optosynth_first_wave__2__20__50',\n",
    "        'optosynth_first_wave__3__20__50',\n",
    "        'optosynth_first_wave__4__20__50',\n",
    "        'optosynth_first_wave__5__20__50'\n",
    "    ]\n",
    "}\n",
    "\n",
    "with open(f'{name}.yaml', 'w') as file:\n",
    "    yaml.dump(config, file)"
   ]
  },
  {
   "cell_type": "code",
   "execution_count": 4,
   "id": "75127524",
   "metadata": {},
   "outputs": [],
   "source": [
    "name = 'sami-optopatch'\n",
    "\n",
    "config = {\n",
    "    'device': 'cpu',\n",
    "    'root_data_dir': '/home/jupyter/bw-data/cellmincer/data',\n",
    "    'log_dir': '/home/jupyter/bw-data/cellmincer/logs',\n",
    "    \n",
    "    'datasets': [\n",
    "        'D1_FOV3_W2_at135105',\n",
    "        'D4_FOV2_W2_at171603',\n",
    "        'D4_FOV3_W2_at172029',\n",
    "        'E3_FOV1_W2_at155440',\n",
    "        'F1_FOV2_W1_at143005'\n",
    "    ]\n",
    "}\n",
    "\n",
    "with open(f'{name}.yaml', 'w') as file:\n",
    "    yaml.dump(config, file)"
   ]
  },
  {
   "cell_type": "code",
   "execution_count": 5,
   "id": "5ed35980",
   "metadata": {},
   "outputs": [],
   "source": [
    "name = 'miller-ephys-standard'\n",
    "\n",
    "config = {\n",
    "    'device': 'cpu',\n",
    "    'root_data_dir': '/home/jupyter/bw-data/cellmincer/data',\n",
    "    'log_dir': '/home/jupyter/bw-data/cellmincer/logs',\n",
    "    \n",
    "    'datasets': [\n",
    "        'cell_3_1_MMStack_Pos0',\n",
    "        'cell_3_2_MMStack_Pos0',\n",
    "        'std_1_MMStack_Pos0',\n",
    "        'std_2_MMStack_Pos0',\n",
    "        'std_3_MMStack_Pos0'\n",
    "    ]\n",
    "}\n",
    "\n",
    "with open(f'{name}.yaml', 'w') as file:\n",
    "    yaml.dump(config, file)"
   ]
  },
  {
   "cell_type": "code",
   "execution_count": null,
   "id": "efb26452",
   "metadata": {},
   "outputs": [],
   "source": []
  }
 ],
 "metadata": {
  "environment": {
   "name": "pytorch-gpu.1-9.m72",
   "type": "gcloud",
   "uri": "gcr.io/deeplearning-platform-release/pytorch-gpu.1-9:m72"
  },
  "kernelspec": {
   "display_name": "Python 3",
   "language": "python",
   "name": "python3"
  },
  "language_info": {
   "codemirror_mode": {
    "name": "ipython",
    "version": 3
   },
   "file_extension": ".py",
   "mimetype": "text/x-python",
   "name": "python",
   "nbconvert_exporter": "python",
   "pygments_lexer": "ipython3",
   "version": "3.7.10"
  }
 },
 "nbformat": 4,
 "nbformat_minor": 5
}
