{
 "cells": [
  {
   "cell_type": "code",
   "execution_count": 23,
   "id": "f60573b0",
   "metadata": {},
   "outputs": [
    {
     "name": "stderr",
     "output_type": "stream",
     "text": [
      "Loading movie from /home/jupyter/bw-data/Optosynth/optosynth_first_wave__1__20__50/noisy_movie_tyx.npz ...\n"
     ]
    },
    {
     "name": "stdout",
     "output_type": "stream",
     "text": [
      "Creating data directories...\n",
      "\t/home/jupyter/bw-data/cellmincer/optosynth_first_wave__1__20__50\n",
      "\t/home/jupyter/bw-data/cellmincer/optosynth_first_wave__2__20__50\n",
      "\t/home/jupyter/bw-data/cellmincer/optosynth_first_wave__3__20__50\n",
      "\t/home/jupyter/bw-data/cellmincer/optosynth_first_wave__4__20__50\n",
      "\t/home/jupyter/bw-data/cellmincer/optosynth_first_wave__5__20__50\n",
      "Preprocessing datasets...\n",
      "\t1 -- optosynth_first_wave__1__20__50\n",
      "\t\tbaseline CCD dc offset estimate: 460.412\n",
      "\t\tmin variance in segment 0: 21.828\n",
      "\t\tmin variance in segment 1: 17.748\n",
      "\t\tmin variance in segment 2: 17.487\n",
      "\t\tmin variance in segment 3: 15.374\n",
      "\t\tmin variance in segment 4: 24.761\n",
      "\t\tmin variance in segment 5: 15.375\n",
      "\t\tmin variance in segment 6: 15.376\n",
      "\t\tdetrended segment 1/7 | loss = 3.335975\n",
      "\t\tdetrended segment 2/7 | loss = 3.336348\n",
      "\t\tdetrended segment 3/7 | loss = 3.335815\n",
      "\t\tdetrended segment 4/7 | loss = 3.335736\n",
      "\t\tdetrended segment 5/7 | loss = 3.336157\n",
      "\t\tdetrended segment 6/7 | loss = 3.335872\n",
      "\t\tdetrended segment 7/7 | loss = 3.335687\n"
     ]
    },
    {
     "name": "stderr",
     "output_type": "stream",
     "text": [
      "Loading movie from /home/jupyter/bw-data/Optosynth/optosynth_first_wave__2__20__50/noisy_movie_tyx.npz ...\n"
     ]
    },
    {
     "name": "stdout",
     "output_type": "stream",
     "text": [
      "\t2 -- optosynth_first_wave__2__20__50\n",
      "\t\tbaseline CCD dc offset estimate: 458.822\n",
      "\t\tmin variance in segment 0: 22.092\n",
      "\t\tmin variance in segment 1: 21.000\n",
      "\t\tmin variance in segment 2: 21.169\n",
      "\t\tmin variance in segment 3: 20.097\n",
      "\t\tmin variance in segment 4: 12.028\n",
      "\t\tmin variance in segment 5: 23.425\n",
      "\t\tmin variance in segment 6: 16.567\n",
      "\t\tdetrended segment 1/7 | loss = 3.335201\n",
      "\t\tdetrended segment 2/7 | loss = 3.334989\n",
      "\t\tdetrended segment 3/7 | loss = 3.334951\n",
      "\t\tdetrended segment 4/7 | loss = 3.334812\n",
      "\t\tdetrended segment 5/7 | loss = 3.335041\n",
      "\t\tdetrended segment 6/7 | loss = 3.335147\n",
      "\t\tdetrended segment 7/7 | loss = 3.334888\n"
     ]
    },
    {
     "name": "stderr",
     "output_type": "stream",
     "text": [
      "Loading movie from /home/jupyter/bw-data/Optosynth/optosynth_first_wave__3__20__50/noisy_movie_tyx.npz ...\n"
     ]
    },
    {
     "name": "stdout",
     "output_type": "stream",
     "text": [
      "\t3 -- optosynth_first_wave__3__20__50\n",
      "\t\tbaseline CCD dc offset estimate: 460.628\n",
      "\t\tmin variance in segment 0: 23.511\n",
      "\t\tmin variance in segment 1: 15.973\n",
      "\t\tmin variance in segment 2: 22.151\n",
      "\t\tmin variance in segment 3: 15.972\n",
      "\t\tmin variance in segment 4: 27.036\n",
      "\t\tmin variance in segment 5: 27.116\n",
      "\t\tmin variance in segment 6: 27.288\n",
      "\t\tdetrended segment 1/7 | loss = 3.324329\n",
      "\t\tdetrended segment 2/7 | loss = 3.324282\n",
      "\t\tdetrended segment 3/7 | loss = 3.323837\n",
      "\t\tdetrended segment 4/7 | loss = 3.323990\n",
      "\t\tdetrended segment 5/7 | loss = 3.323997\n",
      "\t\tdetrended segment 6/7 | loss = 3.324000\n",
      "\t\tdetrended segment 7/7 | loss = 3.323873\n"
     ]
    },
    {
     "name": "stderr",
     "output_type": "stream",
     "text": [
      "Loading movie from /home/jupyter/bw-data/Optosynth/optosynth_first_wave__4__20__50/noisy_movie_tyx.npz ...\n"
     ]
    },
    {
     "name": "stdout",
     "output_type": "stream",
     "text": [
      "\t4 -- optosynth_first_wave__4__20__50\n",
      "\t\tbaseline CCD dc offset estimate: 461.741\n",
      "\t\tmin variance in segment 0: 25.735\n",
      "\t\tmin variance in segment 1: 18.344\n",
      "\t\tmin variance in segment 2: 22.723\n",
      "\t\tmin variance in segment 3: 22.790\n",
      "\t\tmin variance in segment 4: 20.905\n",
      "\t\tmin variance in segment 5: 19.829\n",
      "\t\tmin variance in segment 6: 28.125\n",
      "\t\tdetrended segment 1/7 | loss = 3.332801\n",
      "\t\tdetrended segment 2/7 | loss = 3.332580\n",
      "\t\tdetrended segment 3/7 | loss = 3.332028\n",
      "\t\tdetrended segment 4/7 | loss = 3.332641\n",
      "\t\tdetrended segment 5/7 | loss = 3.331997\n",
      "\t\tdetrended segment 6/7 | loss = 3.332577\n",
      "\t\tdetrended segment 7/7 | loss = 3.332332\n"
     ]
    },
    {
     "name": "stderr",
     "output_type": "stream",
     "text": [
      "Loading movie from /home/jupyter/bw-data/Optosynth/optosynth_first_wave__5__20__50/noisy_movie_tyx.npz ...\n"
     ]
    },
    {
     "name": "stdout",
     "output_type": "stream",
     "text": [
      "\t5 -- optosynth_first_wave__5__20__50\n",
      "\t\tbaseline CCD dc offset estimate: 463.330\n",
      "\t\tmin variance in segment 0: 26.422\n",
      "\t\tmin variance in segment 1: 21.746\n",
      "\t\tmin variance in segment 2: 26.425\n",
      "\t\tmin variance in segment 3: 22.099\n",
      "\t\tmin variance in segment 4: 23.534\n",
      "\t\tmin variance in segment 5: 21.744\n",
      "\t\tmin variance in segment 6: 22.990\n",
      "\t\tdetrended segment 1/7 | loss = 3.349710\n",
      "\t\tdetrended segment 2/7 | loss = 3.349882\n",
      "\t\tdetrended segment 3/7 | loss = 3.349602\n",
      "\t\tdetrended segment 4/7 | loss = 3.349423\n",
      "\t\tdetrended segment 5/7 | loss = 3.349452\n",
      "\t\tdetrended segment 6/7 | loss = 3.349131\n",
      "\t\tdetrended segment 7/7 | loss = 3.349415\n",
      "Preprocessing done.\n"
     ]
    }
   ],
   "source": [
    "%run ../preprocess.py ../configs/preprocess/default.yaml"
   ]
  },
  {
   "cell_type": "code",
   "execution_count": 2,
   "id": "cddad8c1",
   "metadata": {},
   "outputs": [
    {
     "name": "stderr",
     "output_type": "stream",
     "text": [
      "Loading movie from /home/jupyter/bw-data/cellmincer/data/optosynth_first_wave__1__20__50/trend_subtracted.npy ...\n",
      "threshold: 0.4065253329702786\n",
      "Loading movie from /home/jupyter/bw-data/cellmincer/data/optosynth_first_wave__2__20__50/trend_subtracted.npy ...\n",
      "threshold: 0.3912591100803443\n",
      "Loading movie from /home/jupyter/bw-data/cellmincer/data/optosynth_first_wave__3__20__50/trend_subtracted.npy ...\n",
      "threshold: 0.3402066830199744\n",
      "Loading movie from /home/jupyter/bw-data/cellmincer/data/optosynth_first_wave__4__20__50/trend_subtracted.npy ...\n",
      "threshold: 0.36936724311938246\n",
      "Loading movie from /home/jupyter/bw-data/cellmincer/data/optosynth_first_wave__5__20__50/trend_subtracted.npy ...\n",
      "threshold: 0.3345607656985521\n"
     ]
    }
   ],
   "source": [
    "%run ../features.py ../configs/features/default.yaml"
   ]
  },
  {
   "cell_type": "code",
   "execution_count": 4,
   "id": "9a4b2896",
   "metadata": {},
   "outputs": [
    {
     "name": "stderr",
     "output_type": "stream",
     "text": [
      "Loading movie from /home/jupyter/bw-data/cellmincer/data/optosynth_first_wave__1__20__50/trend_subtracted.npy ...\n"
     ]
    },
    {
     "name": "stdout",
     "output_type": "stream",
     "text": [
      "Loading datasets...\n"
     ]
    },
    {
     "name": "stderr",
     "output_type": "stream",
     "text": [
      "Loading movie from /home/jupyter/bw-data/cellmincer/data/optosynth_first_wave__1__20__50/trend.npy ...\n"
     ]
    },
    {
     "name": "stdout",
     "output_type": "stream",
     "text": [
      "Training model...\n",
      "\titer 100/180000\n",
      "\titer 200/180000\n",
      "\titer 300/180000\n",
      "\titer 400/180000\n",
      "\titer 500/180000\n"
     ]
    },
    {
     "ename": "KeyboardInterrupt",
     "evalue": "",
     "output_type": "error",
     "traceback": [
      "\u001b[0;31m---------------------------------------------------------------------------\u001b[0m",
      "\u001b[0;31mKeyboardInterrupt\u001b[0m                         Traceback (most recent call last)",
      "\u001b[0;32m~/bw-code/CellMincer/run.py\u001b[0m in \u001b[0;36m<module>\u001b[0;34m\u001b[0m\n\u001b[1;32m    306\u001b[0m             \u001b[0mconfig\u001b[0m\u001b[0;34m=\u001b[0m\u001b[0mconfig\u001b[0m\u001b[0;34m,\u001b[0m\u001b[0;34m\u001b[0m\u001b[0;34m\u001b[0m\u001b[0m\n\u001b[1;32m    307\u001b[0m             \u001b[0mdenoising_model\u001b[0m\u001b[0;34m=\u001b[0m\u001b[0mdenoising_model\u001b[0m\u001b[0;34m,\u001b[0m\u001b[0;34m\u001b[0m\u001b[0;34m\u001b[0m\u001b[0m\n\u001b[0;32m--> 308\u001b[0;31m             ws_denoising_list=ws_denoising_list)\n\u001b[0m\u001b[1;32m    309\u001b[0m     \u001b[0;32mif\u001b[0m \u001b[0margs\u001b[0m\u001b[0;34m.\u001b[0m\u001b[0mdenoise\u001b[0m\u001b[0;34m:\u001b[0m\u001b[0;34m\u001b[0m\u001b[0;34m\u001b[0m\u001b[0m\n\u001b[1;32m    310\u001b[0m         denoise(\n",
      "\u001b[0;32m~/bw-code/CellMincer/run.py\u001b[0m in \u001b[0;36mtrain\u001b[0;34m(config, denoising_model, ws_denoising_list)\u001b[0m\n\u001b[1;32m    134\u001b[0m                 \u001b[0;34m(\u001b[0m\u001b[0;34m(\u001b[0m\u001b[0mloss_dict\u001b[0m\u001b[0;34m[\u001b[0m\u001b[0;34m'rec_loss'\u001b[0m\u001b[0;34m]\u001b[0m \u001b[0;34m+\u001b[0m \u001b[0mloss_dict\u001b[0m\u001b[0;34m[\u001b[0m\u001b[0;34m'reg_loss'\u001b[0m\u001b[0;34m]\u001b[0m\u001b[0;34m)\u001b[0m \u001b[0;34m/\u001b[0m \u001b[0mn_loop\u001b[0m\u001b[0;34m)\u001b[0m\u001b[0;34m.\u001b[0m\u001b[0mbackward\u001b[0m\u001b[0;34m(\u001b[0m\u001b[0;34m)\u001b[0m\u001b[0;34m\u001b[0m\u001b[0;34m\u001b[0m\u001b[0m\n\u001b[1;32m    135\u001b[0m             \u001b[0;32melse\u001b[0m\u001b[0;34m:\u001b[0m\u001b[0;34m\u001b[0m\u001b[0;34m\u001b[0m\u001b[0m\n\u001b[0;32m--> 136\u001b[0;31m                 \u001b[0;34m(\u001b[0m\u001b[0mloss_dict\u001b[0m\u001b[0;34m[\u001b[0m\u001b[0;34m'rec_loss'\u001b[0m\u001b[0;34m]\u001b[0m \u001b[0;34m/\u001b[0m \u001b[0mn_loop\u001b[0m\u001b[0;34m)\u001b[0m\u001b[0;34m.\u001b[0m\u001b[0mbackward\u001b[0m\u001b[0;34m(\u001b[0m\u001b[0;34m)\u001b[0m\u001b[0;34m\u001b[0m\u001b[0;34m\u001b[0m\u001b[0m\n\u001b[0m\u001b[1;32m    137\u001b[0m \u001b[0;34m\u001b[0m\u001b[0m\n\u001b[1;32m    138\u001b[0m             \u001b[0mc_rec_loss_hist\u001b[0m\u001b[0;34m.\u001b[0m\u001b[0mappend\u001b[0m\u001b[0;34m(\u001b[0m\u001b[0mloss_dict\u001b[0m\u001b[0;34m[\u001b[0m\u001b[0;34m'rec_loss'\u001b[0m\u001b[0;34m]\u001b[0m\u001b[0;34m.\u001b[0m\u001b[0mitem\u001b[0m\u001b[0;34m(\u001b[0m\u001b[0;34m)\u001b[0m\u001b[0;34m)\u001b[0m\u001b[0;34m\u001b[0m\u001b[0;34m\u001b[0m\u001b[0m\n",
      "\u001b[0;32m/opt/conda/lib/python3.7/site-packages/torch/tensor.py\u001b[0m in \u001b[0;36mbackward\u001b[0;34m(self, gradient, retain_graph, create_graph, inputs)\u001b[0m\n\u001b[1;32m    243\u001b[0m                 \u001b[0mcreate_graph\u001b[0m\u001b[0;34m=\u001b[0m\u001b[0mcreate_graph\u001b[0m\u001b[0;34m,\u001b[0m\u001b[0;34m\u001b[0m\u001b[0;34m\u001b[0m\u001b[0m\n\u001b[1;32m    244\u001b[0m                 inputs=inputs)\n\u001b[0;32m--> 245\u001b[0;31m         \u001b[0mtorch\u001b[0m\u001b[0;34m.\u001b[0m\u001b[0mautograd\u001b[0m\u001b[0;34m.\u001b[0m\u001b[0mbackward\u001b[0m\u001b[0;34m(\u001b[0m\u001b[0mself\u001b[0m\u001b[0;34m,\u001b[0m \u001b[0mgradient\u001b[0m\u001b[0;34m,\u001b[0m \u001b[0mretain_graph\u001b[0m\u001b[0;34m,\u001b[0m \u001b[0mcreate_graph\u001b[0m\u001b[0;34m,\u001b[0m \u001b[0minputs\u001b[0m\u001b[0;34m=\u001b[0m\u001b[0minputs\u001b[0m\u001b[0;34m)\u001b[0m\u001b[0;34m\u001b[0m\u001b[0;34m\u001b[0m\u001b[0m\n\u001b[0m\u001b[1;32m    246\u001b[0m \u001b[0;34m\u001b[0m\u001b[0m\n\u001b[1;32m    247\u001b[0m     \u001b[0;32mdef\u001b[0m \u001b[0mregister_hook\u001b[0m\u001b[0;34m(\u001b[0m\u001b[0mself\u001b[0m\u001b[0;34m,\u001b[0m \u001b[0mhook\u001b[0m\u001b[0;34m)\u001b[0m\u001b[0;34m:\u001b[0m\u001b[0;34m\u001b[0m\u001b[0;34m\u001b[0m\u001b[0m\n",
      "\u001b[0;32m/opt/conda/lib/python3.7/site-packages/torch/autograd/__init__.py\u001b[0m in \u001b[0;36mbackward\u001b[0;34m(tensors, grad_tensors, retain_graph, create_graph, grad_variables, inputs)\u001b[0m\n\u001b[1;32m    145\u001b[0m     Variable._execution_engine.run_backward(\n\u001b[1;32m    146\u001b[0m         \u001b[0mtensors\u001b[0m\u001b[0;34m,\u001b[0m \u001b[0mgrad_tensors_\u001b[0m\u001b[0;34m,\u001b[0m \u001b[0mretain_graph\u001b[0m\u001b[0;34m,\u001b[0m \u001b[0mcreate_graph\u001b[0m\u001b[0;34m,\u001b[0m \u001b[0minputs\u001b[0m\u001b[0;34m,\u001b[0m\u001b[0;34m\u001b[0m\u001b[0;34m\u001b[0m\u001b[0m\n\u001b[0;32m--> 147\u001b[0;31m         allow_unreachable=True, accumulate_grad=True)  # allow_unreachable flag\n\u001b[0m\u001b[1;32m    148\u001b[0m \u001b[0;34m\u001b[0m\u001b[0m\n\u001b[1;32m    149\u001b[0m \u001b[0;34m\u001b[0m\u001b[0m\n",
      "\u001b[0;31mKeyboardInterrupt\u001b[0m: "
     ]
    }
   ],
   "source": [
    "%run ../run.py --train --denoise ../configs/run/default.yaml"
   ]
  },
  {
   "cell_type": "code",
   "execution_count": null,
   "id": "606b3f7f",
   "metadata": {},
   "outputs": [],
   "source": []
  }
 ],
 "metadata": {
  "environment": {
   "name": "pytorch-gpu.1-8.m65",
   "type": "gcloud",
   "uri": "gcr.io/deeplearning-platform-release/pytorch-gpu.1-8:m65"
  },
  "kernelspec": {
   "display_name": "Python 3",
   "language": "python",
   "name": "python3"
  },
  "language_info": {
   "codemirror_mode": {
    "name": "ipython",
    "version": 3
   },
   "file_extension": ".py",
   "mimetype": "text/x-python",
   "name": "python",
   "nbconvert_exporter": "python",
   "pygments_lexer": "ipython3",
   "version": "3.7.10"
  }
 },
 "nbformat": 4,
 "nbformat_minor": 5
}
