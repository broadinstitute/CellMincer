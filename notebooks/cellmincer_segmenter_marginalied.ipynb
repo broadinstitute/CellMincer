{
 "cells": [
  {
   "cell_type": "markdown",
   "metadata": {},
   "source": [
    "## CellMincer segmentation\n",
    "\n",
    "The loss function is:\n",
    "\n",
    "$$\n",
    "\\begin{align}\n",
    "\\mathcal{L} = & \\, \\frac{1}{A}\\sum_p\\log\\,\\sigma_p + \\frac{1}{A\\,T}\\sum_{t,p} \\frac{1}{2\\sigma_p^2}\\left|M_{tp} - \\textstyle{\\sum_{\\mu=1}^{M}}  \\, \\tau_{t \\mu}\\, \\omega_{\\mu p} \\right|^2 \\qquad \\text{(Gaussian noise)} \\\\\n",
    "& + \\frac{1}{2 T}\\sum_{t,\\mu} \\tau_{t \\mu}^2 \\qquad \\text{(Normal prior to set the scale of $\\tau_{t\\mu}$)} \\\\\n",
    "& + \\frac{1}{A}\\sum_p \\frac{\\sigma_p}{\\bar{\\sigma}} \\qquad \\text{(Exponential prior for per-pixel variance)} \\\\\n",
    "& + \\mathcal{L}_\\mathrm{loc} + \\mathcal{L}_\\mathrm{ARD} \\qquad \\text{(Regularization)}.\n",
    "\\end{align}\n",
    "$$\n",
    "\n",
    "Here, $p$, $\\mu$, and $t$ correspond to pixels, objects (neurons), and time, respectively. $\\omega_{\\mu p} \\geq 0$ is the per-pixel foreground contribution of each neuron, and $\\tau_{\\mu t}$ is the temporal trace of each neuron.\n",
    "\n",
    "**Locality regularization**: The _weight localization score_, $L_\\mu \\in [0, 1]$, is defined as:\n",
    "\n",
    "$$L_\\mu = \\frac{\\max_p\\, \\sum_{p'} k_{p,p'} \\, \\omega_{\\mu p'}}{\\sum_{p'} \\omega_{\\mu p'}},$$\n",
    "\n",
    "where $k_{p,p'} = \\theta[r^* - |\\mathbf{r}_p - \\mathbf{r}_{p'}|]$ is a circular kernel with radius $r^*$. Calculating $\\gamma_\\mu[\\omega_{\\mu p}]$ involves finding a circular region of radius $r^*$ that contains most of the weight and can be done quickly using 2D convolutions. The regularizartion is:\n",
    "\n",
    "$$\\mathcal{L}_\\mathrm{loc} = \\lambda_\\mathrm{loc} \\, \\sum_{\\mu=1}^{M} \\, (1 - L_\\mu)$$\n",
    "\n",
    "\n",
    "**Parsimony regularization**: We would like to explain the movie with as few neurons as possible. We assume $\\omega_{\\mu p} \\sim \\mathrm{Exp}(\\lambda_\\mu)$ and allow optimization of $\\lambda_\\mu$. Neurons that explain significant variance will have relatively large $\\omega_{\\mu p}$ and as such, the prior is optimized for a finite $\\lambda_\\mu$. On the other hand, neurons that explain small variance can decrease the loss function by taking the opposite limit, i.e. $\\omega_{\\mu p} \\rightarrow 0$ and $\\lambda_\\mu \\rightarrow \\infty$. The regularization is:\n",
    "\n",
    "$$\\mathcal{L}_\\mathrm{ARD} = \\lambda_\\mathrm{ARD}\\sum_\\mu \\left(-\\log \\lambda_\\mu + \\frac{\\lambda_\\mu}{A}\\sum_p \\omega_{\\mu p}\\right).$$\n",
    "\n",
    "\n",
    "**Marginalization of $\\tau_{t\\mu}$**: we can marginalize $\\tau_{t\\mu}$ exactly. The result is:\n",
    "\n",
    "$$\\boldsymbol{\\tau}^T = \\left(\\mathbb{I}_{M} + \\boldsymbol{\\omega} \\, \\boldsymbol{\\Lambda} \\, \\boldsymbol{\\omega}^T\\right)^{-1} \\, \\boldsymbol{\\omega} \\, \\boldsymbol{\\Lambda} \\, \\mathbf{M}^T,$$\n",
    "\n",
    "where $\\boldsymbol{\\Lambda} = \\mathrm{diag}\\{\\sigma_1^{-2}, \\sigma_2^{-2}, \\ldots\\}$ is the diagonal precision matrix.\n",
    "\n",
    "\n",
    "<!-- **Initialization**: TBW.\n",
    "\n",
    "Finally, $\\omega_{\\mu p}$ is calculated as follows. We define:\n",
    "\n",
    "$$\\chi_{\\mu p} \\equiv \\frac{\\frac{1}{T}\\sum_{t=1}^{T}\\left(M_{tp} - \\bar{M}_{tp}\\right)\\left(\\tau_{\\mu t} - \\bar{\\tau}_{\\mu t}\\right)}{\\sigma(M_{tp} - \\bar{M}_{tp}) \\, \\sigma(\\tau_{\\mu t} - \\bar{\\tau}_{\\mu t})},$$\n",
    "\n",
    "where $\\bar{M}_{tp}$ and $\\bar{\\tau}_{\\mu t}$ denote the movie and trace trends, respectively (calculated via moving average or median filtering). Intuitively, $\\chi_{\\mu p} \\in [-1, 1]$ is positive and large for pixels that temporally correlated with $\\tau_{\\mu t}$. We feed $\\chi_{\\mu p}$ to a U-Net conditioned on global features $\\mathfrak{F}$, and expected a probability map $\\tilde{\\omega}_{\\mu p} \\in [0, 1]$ in the output. The latter denotes the responsibility of each pixel for trace element $\\mu$. Finally, we lift the single-trace probability maps to a simplex:\n",
    "\n",
    "$$\\omega_{\\mu p} \\equiv \\frac{\\tilde{\\omega}_{\\mu p}}{\\sum_\\mu \\tilde{\\omega}_{\\mu p}}$$.\n",
    "\n",
    "The global per-pixel responsibility $\\alpha_p$ is calculated from $\\mathfrak{F}$ via a dedicated U-Net. $\\{\\alpha_\\mu\\}$ are variational parameters. The training involves a E-step and an M-step. In the E-step, $\\tau_{\\mu t}$ are help fixed and everything else is optimized. In the M-step, everything is fixed save for $\\tau_{\\mu t}$. We perform inexact E- and M-step updates via SGD. We initiatize $\\tau_{\\mu t}$ to a uniform subsampling of foreground pixels. -->"
   ]
  },
  {
   "cell_type": "code",
   "execution_count": 1,
   "metadata": {},
   "outputs": [],
   "source": [
    "%matplotlib inline\n",
    "\n",
    "import os\n",
    "import sys\n",
    "notebook_path = os.path.abspath('.')\n",
    "sources_path = os.path.abspath(os.path.join(notebook_path, '..'))\n",
    "sys.path.insert(0, sources_path)\n",
    "\n",
    "import matplotlib.pylab as plt\n",
    "import numpy as np\n",
    "import torch\n",
    "import logging\n",
    "import pickle\n",
    "\n",
    "from skimage.filters import threshold_otsu\n",
    "\n",
    "from cellmincer.opto_ws import \\\n",
    "    OptopatchBaseWorkspace, \\\n",
    "    OptopatchGlobalFeaturesTorchCache\n",
    "\n",
    "from cellmincer.opto_features import \\\n",
    "    OptopatchGlobalFeatureExtractor, \\\n",
    "    OptopatchGlobalFeatureContainer\n",
    "\n",
    "from cellmincer.opto_denoise import \\\n",
    "    get_unet_input_size\n",
    "\n",
    "from cellmincer.opto_models import \\\n",
    "    ConditionalUNet, \\\n",
    "    center_crop_2d, \\\n",
    "    activation_from_str\n",
    "\n",
    "from cellmincer.opto_utils import \\\n",
    "    crop_center\n",
    "\n",
    "device = torch.device(\"cuda\")\n",
    "dtype = torch.float32\n",
    "\n",
    "def new_fig(figsize=(15, 5)):\n",
    "    fig = plt.figure(figsize=figsize)\n",
    "    ax = plt.gca()\n",
    "    return fig, ax\n",
    "\n",
    "logger = logging.getLogger()\n",
    "log_info = logger.warning\n",
    "\n",
    "torch.backends.cudnn.enabled = True\n",
    "torch.backends.cudnn.benchmark = False"
   ]
  },
  {
   "cell_type": "code",
   "execution_count": 2,
   "metadata": {},
   "outputs": [],
   "source": [
    "# list of Optopatch movies\n",
    "model_prefix = 'final_nopad_l2'\n",
    "\n",
    "denoised_opto_mov_path_list = [\n",
    "    f'/home/jupyter/mb-ml-dev-disk/data/Optopatch/denoised_data/D1_FOV3_W2_at135105__{model_prefix}__denoised.npy',\n",
    "    f'/home/jupyter/mb-ml-dev-disk/data/Optopatch/denoised_data/D4_FOV2_W2_at171603__{model_prefix}__denoised.npy',\n",
    "    f'/home/jupyter/mb-ml-dev-disk/data/Optopatch/denoised_data/D4_FOV3_W2_at172029__{model_prefix}__denoised.npy',\n",
    "    f'/home/jupyter/mb-ml-dev-disk/data/Optopatch/denoised_data/E3_FOV1_W2_at155440__{model_prefix}__denoised.npy',\n",
    "    f'/home/jupyter/mb-ml-dev-disk/data/Optopatch/denoised_data/F1_FOV2_W1_at143005__{model_prefix}__denoised.npy',\n",
    "]\n",
    "\n",
    "denoised_opto_feature_path_list = [\n",
    "    f'/home/jupyter/mb-ml-dev-disk/data/Optopatch/denoised_feature_data/D1_FOV3_W2_at135105__features.pkl',\n",
    "    f'/home/jupyter/mb-ml-dev-disk/data/Optopatch/denoised_feature_data/D4_FOV2_W2_at171603__features.pkl',\n",
    "    f'/home/jupyter/mb-ml-dev-disk/data/Optopatch/denoised_feature_data/D4_FOV3_W2_at172029__features.pkl',\n",
    "    f'/home/jupyter/mb-ml-dev-disk/data/Optopatch/denoised_feature_data/E3_FOV1_W2_at155440__features.pkl',\n",
    "    f'/home/jupyter/mb-ml-dev-disk/data/Optopatch/denoised_feature_data/F1_FOV2_W1_at143005__features.pkl',\n",
    "]\n",
    "\n",
    "# names\n",
    "opto_mov_prefixes = [\n",
    "    'D1_FOV3_W2_at135105',\n",
    "    'D4_FOV2_W2_at171603',\n",
    "    'D4_FOV3_W2_at172029',\n",
    "    'E3_FOV1_W2_at155440',\n",
    "    'F1_FOV2_W1_at143005'\n",
    "]\n",
    "\n",
    "# output\n",
    "output_path = '/home/jupyter/mb-ml-dev-disk/data/Optopatch/denoised_data'\n",
    "feature_path = '/home/jupyter/mb-ml-dev-disk/data/Optopatch/feature_data'\n",
    "model_root = '/home/jupyter/mb-ml-dev-disk/CellMincer/saved_models_new'\n",
    "\n",
    "if not os.path.exists(feature_path):\n",
    "    os.mkdir(feature_path)\n",
    "\n",
    "if not os.path.exists(output_path):\n",
    "    os.mkdir(output_path)\n",
    "    \n",
    "if not os.path.exists(model_root):\n",
    "    os.mkdir(model_root)"
   ]
  },
  {
   "cell_type": "code",
   "execution_count": 3,
   "metadata": {},
   "outputs": [
    {
     "name": "stderr",
     "output_type": "stream",
     "text": [
      "Loading movie from /home/jupyter/mb-ml-dev-disk/data/Optopatch/denoised_data/D1_FOV3_W2_at135105__final_nopad_l2__denoised.npy ...\n"
     ]
    }
   ],
   "source": [
    "i_dataset = 0\n",
    "ws_base = OptopatchBaseWorkspace.from_npy(denoised_opto_mov_path_list[i_dataset])\n",
    "with open(denoised_opto_feature_path_list[i_dataset], 'rb') as f:\n",
    "    feature_container = pickle.Unpickler(f).load()"
   ]
  },
  {
   "cell_type": "code",
   "execution_count": 4,
   "metadata": {},
   "outputs": [],
   "source": [
    "active_mask_t = OptopatchGlobalFeatureExtractor.determine_active_t_range(\n",
    "    ws_base=ws_base,\n",
    "    select_active_t_range=False)"
   ]
  },
  {
   "cell_type": "code",
   "execution_count": 5,
   "metadata": {},
   "outputs": [
    {
     "data": {
      "text/plain": [
       "[<matplotlib.lines.Line2D at 0x7ff422132a10>]"
      ]
     },
     "execution_count": 5,
     "metadata": {},
     "output_type": "execute_result"
    },
    {
     "data": {
      "image/png": "[encoded data removed]",
      "text/plain": [
       "<Figure size 432x288 with 2 Axes>"
      ]
     },
     "metadata": {
      "needs_background": "light"
     },
     "output_type": "display_data"
    }
   ],
   "source": [
    "fig = plt.figure()\n",
    "ax = plt.gca()\n",
    "ax2 = ax.twinx()\n",
    "ax.plot(np.mean(ws_base.movie_txy, axis=(-1, -2)), color='black')\n",
    "ax2.plot(active_mask_t, color='red')"
   ]
  },
  {
   "cell_type": "code",
   "execution_count": 6,
   "metadata": {},
   "outputs": [],
   "source": [
    "ws_base = ws_base.get_t_truncated_movie(np.where(active_mask_t)[0])"
   ]
  },
  {
   "cell_type": "code",
   "execution_count": 7,
   "metadata": {},
   "outputs": [],
   "source": [
    "viz_pix_list = [\n",
    "    (20, 62),\n",
    "    (125, 80),\n",
    "    (165, 150),\n",
    "    (200, 150),\n",
    "    (180, 120),\n",
    "    (395, 135),\n",
    "    (400, 150),\n",
    "]"
   ]
  },
  {
   "cell_type": "markdown",
   "metadata": {},
   "source": [
    "## Implementation"
   ]
  },
  {
   "cell_type": "code",
   "execution_count": 158,
   "metadata": {},
   "outputs": [],
   "source": [
    "from boltons.cacheutils import cachedproperty\n",
    "\n",
    "\n",
    "def get_detrended_movie_torch(\n",
    "        movie_ntxy: np.ndarray,\n",
    "        detrending_order: int,\n",
    "        detrending_func: str,\n",
    "        device: torch.device,\n",
    "        dtype: torch.dtype) -> torch.Tensor:\n",
    "    assert detrending_order > 0\n",
    "    assert detrending_func in {'mean', 'median'}\n",
    "    \n",
    "    # reflection pad in time\n",
    "    padded_movie_ntxy = torch.tensor(\n",
    "        np.pad(\n",
    "            array=movie_ntxy,\n",
    "            pad_width=((0, 0), (detrending_order, detrending_order), (0, 0), (0, 0)),\n",
    "            mode='reflect'),\n",
    "        device=device,\n",
    "        dtype=dtype)\n",
    "    \n",
    "    detrended_movie_ntxy = torch.zeros(\n",
    "        movie_ntxy.shape,\n",
    "        device=device,\n",
    "        dtype=dtype)\n",
    "\n",
    "    # calculate temporal moving average\n",
    "    if detrending_func == 'mean':\n",
    "        for i_t in range(movie_ntxy.shape[-3]):\n",
    "            detrended_movie_ntxy[:, i_t, :, :] = padded_movie_ntxy[:, i_t + detrending_order, :, :] - torch.mean(\n",
    "                padded_movie_ntxy[:, i_t:(i_t + 2 * detrending_order + 1), :, :],\n",
    "                dim=-3)\n",
    "    elif detrending_func == 'median':\n",
    "        for i_t in range(movie_ntxy.shape[-3]):\n",
    "            detrended_movie_ntxy[:, i_t, :, :] = padded_movie_ntxy[:, i_t + detrending_order, :, :] - torch.median(\n",
    "                padded_movie_ntxy[:, i_t:(i_t + 2 * detrending_order + 1), :, :],\n",
    "                dim=-3)[0]\n",
    "    else:\n",
    "        raise ValueError()\n",
    "\n",
    "    return detrended_movie_ntxy\n",
    "\n",
    "\n",
    "def get_detrended_tau_mt(\n",
    "        tau_mt: torch.Tensor,\n",
    "        detrending_order: int,\n",
    "        detrending_func: str,\n",
    "        device: torch.device,\n",
    "        dtype: torch.dtype) -> torch.Tensor:\n",
    "    assert detrending_order > 0\n",
    "    assert detrending_func in {'mean'}\n",
    "    \n",
    "    # reflection pad in time\n",
    "    padded_tau_m1t = torch.nn.ReflectionPad1d(detrending_order)(\n",
    "        tau_mt[:, None, :])\n",
    "    \n",
    "    # trend\n",
    "    moving_average_kern = torch.ones(\n",
    "        (1, 1, 2 * detrending_order + 1),\n",
    "        device=device,\n",
    "        dtype=dtype) / (2 * detrending_order + 1)\n",
    "    padded_tau_trend_m1t = torch.nn.functional.conv1d(\n",
    "        padded_tau_m1t, moving_average_kern)\n",
    "    return tau_mt - padded_tau_trend_m1t[:, 0, ]\n",
    "\n",
    "\n",
    "\n",
    "class OptopatchSegmentationWorkspace:\n",
    "    def __init__(\n",
    "            self,\n",
    "            ws_base: OptopatchBaseWorkspace,\n",
    "            features: OptopatchGlobalFeatureContainer,\n",
    "            segmenter_config: dict,\n",
    "            eps: float,\n",
    "            device: torch.device,\n",
    "            dtype: torch.dtype):\n",
    "        self.ws_base = ws_base\n",
    "        self.features = features\n",
    "        self.segmenter_config = segmenter_config\n",
    "        self.eps = eps\n",
    "        \n",
    "        self.device = device\n",
    "        self.dtype = dtype\n",
    "        \n",
    "        # pad and cache the features\n",
    "        self.cached_features = OptopatchGlobalFeaturesTorchCache(\n",
    "            features=features,\n",
    "            x_padding=0,\n",
    "            y_padding=0,\n",
    "            device=device,\n",
    "            dtype=dtype)\n",
    "        \n",
    "        # scale the movie and flatten in xy\n",
    "        if segmenter_config['detrend_movie'] == True:\n",
    "            \n",
    "            self.movie_tp = get_detrended_movie_torch(\n",
    "                movie_ntxy=ws_base.movie_txy[None, ...] / features.norm_scale,\n",
    "                detrending_order=segmenter_config['detrending_order'],\n",
    "                detrending_func=segmenter_config['detrending_func'],\n",
    "                device=device,\n",
    "                dtype=dtype).view(ws_base.n_frames, -1).contiguous()\n",
    "            \n",
    "        else:\n",
    "            \n",
    "            self.movie_tp = torch.tensor(\n",
    "                ws_base.movie_txy / features.norm_scale,\n",
    "                device=device,\n",
    "                dtype=dtype).view(ws_base.n_frames, -1).contiguous()\n",
    "        \n",
    "        # # subtract mean\n",
    "        # self.movie_tp -= torch.mean(self.movie_tp, dim=0, keepdim=True)\n",
    "\n",
    "        self.n_frames = self.movie_tp.shape[0]\n",
    "        self.n_pixels = self.movie_tp.shape[1]\n",
    "        self.n_masks = segmenter_config['grid_size_x'] * segmenter_config['grid_size_y']\n",
    "\n",
    "        # hyperparameters\n",
    "        self.detrending_order = segmenter_config['detrending_order']\n",
    "        self.sigma_bar = segmenter_config['sigma_bar']\n",
    "        self.ard_reg_strength = segmenter_config['ard_reg_strength']\n",
    "        self.loc_reg_strength = segmenter_config['loc_reg_strength']\n",
    "        self.overlap_reg_strength = segmenter_config['overlap_reg_strength']\n",
    "        self.neg_tau_reg_strength = segmenter_config['neg_tau_reg_strength']\n",
    "        self.ortho_tau_reg_strength = segmenter_config['ortho_tau_reg_strength']\n",
    "        self.init_lambda_ard = segmenter_config['init_lambda_ard']\n",
    "        self.loc_radius = segmenter_config['loc_radius']\n",
    "        self.loc_stride = segmenter_config['loc_stride']\n",
    "        self.loc_repeat = segmenter_config['loc_repeat']\n",
    "        \n",
    "        # masks\n",
    "        self.log_omega_mp = torch.nn.Parameter(\n",
    "            torch.tensor(\n",
    "                self.generate_init_log_weights_mxy(),\n",
    "                device=device,\n",
    "                dtype=dtype).view(self.n_masks, -1).contiguous().clone())\n",
    "\n",
    "        # unexplained variance\n",
    "        self.log_sigma_p = torch.nn.Parameter(\n",
    "            np.log(segmenter_config['init_sigma']) * torch.ones(\n",
    "                self.n_pixels,\n",
    "                device=device,\n",
    "                dtype=dtype))\n",
    "        \n",
    "        # ARD coefficients\n",
    "        self.log_lambda_ard_m = torch.nn.Parameter(\n",
    "            np.log(self.init_lambda_ard) * torch.ones(\n",
    "                self.n_masks, device=device, dtype=dtype))\n",
    "        \n",
    "        # auxiliary\n",
    "        self.eye_mm = torch.eye(self.n_masks, device=device, dtype=dtype)\n",
    "\n",
    "    @property\n",
    "    def parameters(self):\n",
    "        return [\n",
    "            self.log_omega_mp,\n",
    "            self.log_sigma_p,\n",
    "            self.log_lambda_ard_m]\n",
    "\n",
    "    def generate_init_log_weights_mxy(self):\n",
    "        # generate the initial masks\n",
    "        trend_std_xy = crop_center(\n",
    "            self.cached_features.features_1fxy[\n",
    "                0, self.cached_features.feature_name_list.index('trend_std_0'), :, :],\n",
    "            target_width=self.ws_base.width,\n",
    "            target_height=self.ws_base.height).cpu().numpy()\n",
    "\n",
    "        init_log_weight_1xy_list = []\n",
    "        grid_center_x = [\n",
    "            int((2 * i_x + 1) * self.ws_base.width / (2 * self.segmenter_config['grid_size_x']))\n",
    "            for i_x in range(self.segmenter_config['grid_size_x'])]\n",
    "        grid_center_y = [\n",
    "            int((2 * i_y + 1) * self.ws_base.height / (2 * self.segmenter_config['grid_size_y']))\n",
    "            for i_y in range(self.segmenter_config['grid_size_y'])]\n",
    "\n",
    "        for x0 in grid_center_x:\n",
    "            for y0 in grid_center_y:\n",
    "                x = np.arange(0, self.ws_base.width)[:, None]\n",
    "                y = np.arange(0, self.ws_base.height)[None, :]\n",
    "                log_gaussian_mask_xy = -((x - x0)**2 + (y - y0)**2) / (\n",
    "                    2 * self.segmenter_config['init_mask_radius']**2)\n",
    "                init_log_weight_xy = log_gaussian_mask_xy + np.log(trend_std_xy).mean()\n",
    "                init_log_weight_1xy_list.append(init_log_weight_xy[None, :, :])\n",
    "                \n",
    "        return np.concatenate(init_log_weight_1xy_list, axis=0)\n",
    "\n",
    "    def get_weight_localization_score(\n",
    "            self,\n",
    "            weight_mp: torch.Tensor,\n",
    "            radius: int,\n",
    "            repeat: int,\n",
    "            stride: int,\n",
    "            eps: float = 1e-6):\n",
    "\n",
    "        # circular structure\n",
    "        n_batch, n_pixels = weight_mp.shape\n",
    "        x = torch.arange(\n",
    "            - radius * repeat,\n",
    "            radius * repeat + 1,\n",
    "            dtype=self.dtype,\n",
    "            device=self.device)[None, :]\n",
    "        y = torch.arange(\n",
    "            - radius * repeat,\n",
    "            radius * repeat + 1,\n",
    "            dtype=self.dtype,\n",
    "            device=self.device)[:, None]\n",
    "        struct = torch.exp(- ((x.pow(2) + y.pow(2)) / (2 * radius ** 2)))\n",
    "        struct = struct / struct.sum()\n",
    "        kern = struct[None, None, ...]\n",
    "\n",
    "        # calculate locally-summed weight\n",
    "        locally_summed_weight_map_mxy = torch.nn.functional.conv2d(\n",
    "            weight_mp.view(\n",
    "                n_batch,\n",
    "                1,\n",
    "                self.ws_base.width,\n",
    "                self.ws_base.height),\n",
    "            kern,\n",
    "            stride=stride,\n",
    "            padding=radius * repeat)[:, 0, :, :]\n",
    "\n",
    "        # total weight\n",
    "        total_weight_m = torch.sum(weight_mp, dim=-1) / self.n_pixels\n",
    "\n",
    "        # largest locally summed weight\n",
    "        max_weight_m, _ = torch.max(locally_summed_weight_map_mxy.view(n_batch, -1), dim=-1)\n",
    "\n",
    "        return max_weight_m / (total_weight_m + eps)\n",
    "    \n",
    "    \n",
    "    def get_tau_mt(self, t_index_tensor: torch.Tensor):\n",
    "        c_n_frames = t_index_tensor.numel()\n",
    "        movie_tp = self.movie_tp[t_index_tensor, :]\n",
    "        \n",
    "        # auxiliary variables\n",
    "        omega_mp = self.log_omega_mp.exp()\n",
    "        # log_sigma_p = self.log_sigma_scalar.expand([self.n_pixels])\n",
    "        log_sigma_p = self.log_sigma_p\n",
    "        sigma_p = log_sigma_p.exp()\n",
    "        prec_p = sigma_p.pow(2).reciprocal()\n",
    "\n",
    "        # reconstruction loss\n",
    "        with torch.no_grad():\n",
    "            v_mt = torch.einsum(\n",
    "                'mp,p,tp->mt',\n",
    "                omega_mp, prec_p, movie_tp)\n",
    "            q_mm = self.eye_mm + torch.einsum(\n",
    "                'mp,p,np->mn',\n",
    "                omega_mp, prec_p, omega_mp)\n",
    "            l_mm = torch.cholesky(q_mm)\n",
    "            tau_mt = v_mt.cholesky_solve(l_mm, upper=False)\n",
    "            \n",
    "        return tau_mt\n",
    "\n",
    "    def get_tau_marginalized_loss(self, t_index_tensor: torch.Tensor):\n",
    "        if t_index_tensor is None:\n",
    "            c_n_frames = self.n_frames\n",
    "            movie_tp = self.movie_tp\n",
    "        else:\n",
    "            c_n_frames = t_index_tensor.numel()\n",
    "            movie_tp = self.movie_tp[t_index_tensor, :]\n",
    "        \n",
    "        # scale factor to compensate for temporal minibatching\n",
    "        t_scale_factor = self.n_frames / c_n_frames\n",
    "        loss_scale = self.n_pixels * self.n_frames\n",
    "\n",
    "        # auxiliary variables\n",
    "        omega_mp = self.log_omega_mp.exp()\n",
    "        # log_sigma_p = self.log_sigma_scalar.expand([self.n_pixels])\n",
    "        log_sigma_p = self.log_sigma_p\n",
    "        sigma_p = log_sigma_p.exp()\n",
    "        prec_p = sigma_p.pow(2).reciprocal()\n",
    "        lambda_ard_m = self.log_lambda_ard_m.exp()\n",
    "\n",
    "        # tau-marginalized reconstruction loss\n",
    "        b_mt = torch.einsum(\n",
    "            'mp,p,tp->mt',\n",
    "            omega_mp, prec_p, movie_tp)\n",
    "        overlap_mm = torch.einsum(\n",
    "            'mp,p,np->mn',\n",
    "            omega_mp, prec_p, omega_mp)\n",
    "        q_mm = self.eye_mm + overlap_mm\n",
    "        l_mm = torch.cholesky(q_mm)\n",
    "        tau_mt = b_mt.cholesky_solve(l_mm, upper=False)\n",
    "\n",
    "        rec_loss_log_sigma = log_sigma_p.sum() * c_n_frames\n",
    "        rec_loss_log_det_q = + 0.5 * torch.logdet(q_mm) * c_n_frames\n",
    "        rec_loss_linear_term = - 0.5 * (b_mt * tau_mt).sum()\n",
    "        rec_loss_cov_term = 0.5 * (movie_tp.pow(2) * prec_p).sum()\n",
    "        rec_loss = t_scale_factor * (rec_loss_log_sigma\n",
    "                    + rec_loss_log_det_q\n",
    "                    + rec_loss_linear_term\n",
    "                    + rec_loss_cov_term)\n",
    "        \n",
    "        # unexplained variance prior\n",
    "        sigma_loss = sigma_p.sum() / self.sigma_bar + self.n_pixels * np.log(self.sigma_bar)\n",
    "        \n",
    "        # ARD prior\n",
    "        ard_loss = self.ard_reg_strength * (\n",
    "            0.5 * (omega_mp.pow(2).sum(-1) * lambda_ard_m).sum()\n",
    "            - 0.5 * self.n_pixels * self.log_lambda_ard_m.sum())\n",
    "\n",
    "        # localization regularization\n",
    "        loc_m = self.get_weight_localization_score(\n",
    "            weight_mp=omega_mp,\n",
    "            radius=self.loc_radius,\n",
    "            stride=self.loc_stride,\n",
    "            repeat=self.loc_repeat)\n",
    "        loc_loss = - loss_scale * self.loc_reg_strength * loc_m.sum()\n",
    "        \n",
    "        # overlap-avoidance regularization\n",
    "        omega_norm_m = omega_mp.pow(2).sum(-1).sqrt()\n",
    "        omega_overlap_mm = overlap_mm.clone()\n",
    "        omega_overlap_mm.fill_diagonal_(0.)\n",
    "        overlap_loss = self.n_frames * self.overlap_reg_strength * omega_overlap_mm.sum()\n",
    "        \n",
    "#         # negative-tau-avoidance regularization\n",
    "#         neg_tau_loss = self.neg_tau_reg_strength * torch.clamp(- tau_mt, min=0).pow(4).sum()\n",
    "        \n",
    "        # tau-orthogonality regularization\n",
    "        detrended_tau_mt = get_detrended_tau_mt(\n",
    "            tau_mt=tau_mt,\n",
    "            detrending_order=self.detrending_order,\n",
    "            detrending_func='mean',\n",
    "            device=self.device,\n",
    "            dtype=self.dtype)\n",
    "        detrended_tau_mt = detrended_tau_mt - detrended_tau_mt.mean(-1)[:, None]\n",
    "        detrended_tau_cross_mm = torch.mm(detrended_tau_mt, detrended_tau_mt.t()) / c_n_frames\n",
    "        detrended_tau_std_m = torch.diag(detrended_tau_cross_mm).sqrt()\n",
    "        detrended_tau_cross_mm.fill_diagonal_(0.)\n",
    "        detrended_tau_cross_mm = detrended_tau_cross_mm / torch.ger(\n",
    "            detrended_tau_std_m, detrended_tau_std_m)\n",
    "        ortho_tau_reg_loss = loss_scale * self.ortho_tau_reg_strength * detrended_tau_cross_mm.abs().sum()\n",
    "        \n",
    "        return {\n",
    "            'rec_loss': rec_loss,\n",
    "            'sigma_loss': sigma_loss,\n",
    "            'ard_loss': ard_loss,\n",
    "            'loc_loss': loc_loss,\n",
    "#             'neg_tau_loss': neg_tau_loss,\n",
    "            'ortho_tau_reg_loss': ortho_tau_reg_loss,\n",
    "            'overlap_loss': overlap_loss,\n",
    "        }"
   ]
  },
  {
   "cell_type": "markdown",
   "metadata": {},
   "source": [
    "## Initialization"
   ]
  },
  {
   "cell_type": "code",
   "execution_count": 159,
   "metadata": {},
   "outputs": [],
   "source": [
    "segmenter_config = {\n",
    "    'grid_size_x': 15,\n",
    "    'grid_size_y': 5,\n",
    "    'init_mask_radius': 20,\n",
    "    'sigma_bar': 0.001,\n",
    "    'init_sigma': 0.1,\n",
    "    't_batch_size': None,\n",
    "    'loc_radius': 50,\n",
    "    'loc_stride': 5,\n",
    "    'loc_repeat': 3,\n",
    "    'ard_reg_strength': 1.0,\n",
    "    'loc_reg_strength': 1e-2,\n",
    "    'overlap_reg_strength': 1.0,\n",
    "    'neg_tau_reg_strength': 1e+3,\n",
    "    'ortho_tau_reg_strength': 1e-2,\n",
    "    'init_lambda_ard': 1e2,\n",
    "    'detrend_movie': True,\n",
    "    'detrending_order': 5,\n",
    "    'detrending_func': 'median'\n",
    "}"
   ]
  },
  {
   "cell_type": "code",
   "execution_count": 160,
   "metadata": {},
   "outputs": [],
   "source": [
    "ws_seg = OptopatchSegmentationWorkspace(\n",
    "    ws_base=ws_base,\n",
    "    features=feature_container,\n",
    "    segmenter_config=segmenter_config,\n",
    "    eps=1e-6,\n",
    "    device=device,\n",
    "    dtype=dtype)"
   ]
  },
  {
   "cell_type": "code",
   "execution_count": 161,
   "metadata": {},
   "outputs": [],
   "source": [
    "all_params = ws_seg.parameters\n",
    "optim = torch.optim.Adam(all_params, lr=1e-2, betas=(0.9, 0.999))\n",
    "# optim = torch.optim.LBFGS(all_params, lr=0.1, history_size=10)"
   ]
  },
  {
   "cell_type": "code",
   "execution_count": 162,
   "metadata": {},
   "outputs": [],
   "source": [
    "n_iters = 10000\n",
    "log_every = 20\n",
    "\n",
    "loss_hist_dict = None"
   ]
  },
  {
   "cell_type": "code",
   "execution_count": 163,
   "metadata": {},
   "outputs": [],
   "source": [
    "i_iter = 0"
   ]
  },
  {
   "cell_type": "code",
   "execution_count": 187,
   "metadata": {},
   "outputs": [
    {
     "name": "stdout",
     "output_type": "stream",
     "text": [
      "iter: 140, total_loss: -1.857, rec_loss: -1.555, sigma_loss: 0.030, ard_loss: -0.035, loc_loss: -3.815, ortho_tau_reg_loss: 2.543, overlap_loss: 0.975\n",
      "iter: 160, total_loss: -2.057, rec_loss: -1.527, sigma_loss: 0.031, ard_loss: -0.036, loc_loss: -3.813, ortho_tau_reg_loss: 2.416, overlap_loss: 0.874\n",
      "iter: 180, total_loss: -2.207, rec_loss: -1.506, sigma_loss: 0.032, ard_loss: -0.038, loc_loss: -3.813, ortho_tau_reg_loss: 2.322, overlap_loss: 0.796\n",
      "iter: 200, total_loss: -2.341, rec_loss: -1.488, sigma_loss: 0.033, ard_loss: -0.039, loc_loss: -3.812, ortho_tau_reg_loss: 2.230, overlap_loss: 0.736\n",
      "iter: 220, total_loss: -2.476, rec_loss: -1.474, sigma_loss: 0.033, ard_loss: -0.040, loc_loss: -3.812, ortho_tau_reg_loss: 2.127, overlap_loss: 0.690\n",
      "iter: 240, total_loss: -2.593, rec_loss: -1.463, sigma_loss: 0.034, ard_loss: -0.041, loc_loss: -3.813, ortho_tau_reg_loss: 2.036, overlap_loss: 0.654\n",
      "iter: 260, total_loss: -2.703, rec_loss: -1.454, sigma_loss: 0.034, ard_loss: -0.042, loc_loss: -3.814, ortho_tau_reg_loss: 1.948, overlap_loss: 0.624\n",
      "iter: 280, total_loss: -2.790, rec_loss: -1.447, sigma_loss: 0.035, ard_loss: -0.043, loc_loss: -3.815, ortho_tau_reg_loss: 1.883, overlap_loss: 0.598\n",
      "iter: 300, total_loss: -2.878, rec_loss: -1.443, sigma_loss: 0.035, ard_loss: -0.043, loc_loss: -3.817, ortho_tau_reg_loss: 1.814, overlap_loss: 0.576\n",
      "iter: 320, total_loss: -2.951, rec_loss: -1.440, sigma_loss: 0.035, ard_loss: -0.044, loc_loss: -3.818, ortho_tau_reg_loss: 1.758, overlap_loss: 0.558\n",
      "iter: 340, total_loss: -3.020, rec_loss: -1.440, sigma_loss: 0.035, ard_loss: -0.045, loc_loss: -3.820, ortho_tau_reg_loss: 1.705, overlap_loss: 0.544\n",
      "iter: 360, total_loss: -3.089, rec_loss: -1.441, sigma_loss: 0.035, ard_loss: -0.046, loc_loss: -3.822, ortho_tau_reg_loss: 1.653, overlap_loss: 0.532\n",
      "iter: 380, total_loss: -3.144, rec_loss: -1.443, sigma_loss: 0.035, ard_loss: -0.046, loc_loss: -3.824, ortho_tau_reg_loss: 1.613, overlap_loss: 0.522\n",
      "iter: 400, total_loss: -3.195, rec_loss: -1.447, sigma_loss: 0.035, ard_loss: -0.047, loc_loss: -3.827, ortho_tau_reg_loss: 1.579, overlap_loss: 0.511\n",
      "iter: 420, total_loss: -3.246, rec_loss: -1.452, sigma_loss: 0.035, ard_loss: -0.047, loc_loss: -3.829, ortho_tau_reg_loss: 1.545, overlap_loss: 0.502\n",
      "iter: 440, total_loss: -3.276, rec_loss: -1.457, sigma_loss: 0.035, ard_loss: -0.048, loc_loss: -3.831, ortho_tau_reg_loss: 1.530, overlap_loss: 0.495\n",
      "iter: 460, total_loss: -3.319, rec_loss: -1.463, sigma_loss: 0.035, ard_loss: -0.048, loc_loss: -3.833, ortho_tau_reg_loss: 1.501, overlap_loss: 0.489\n",
      "iter: 480, total_loss: -3.365, rec_loss: -1.469, sigma_loss: 0.034, ard_loss: -0.048, loc_loss: -3.835, ortho_tau_reg_loss: 1.470, overlap_loss: 0.483\n"
     ]
    },
    {
     "ename": "KeyboardInterrupt",
     "evalue": "",
     "output_type": "error",
     "traceback": [
      "\u001b[0;31m---------------------------------------------------------------------------\u001b[0m",
      "\u001b[0;31mKeyboardInterrupt\u001b[0m                         Traceback (most recent call last)",
      "\u001b[0;32m<ipython-input-187-82db2bb187ab>\u001b[0m in \u001b[0;36m<module>\u001b[0;34m\u001b[0m\n\u001b[1;32m     30\u001b[0m     \u001b[0mloss_dict\u001b[0m \u001b[0;34m=\u001b[0m \u001b[0mws_seg\u001b[0m\u001b[0;34m.\u001b[0m\u001b[0mget_tau_marginalized_loss\u001b[0m\u001b[0;34m(\u001b[0m\u001b[0mt_index_tensor\u001b[0m\u001b[0;34m)\u001b[0m\u001b[0;34m\u001b[0m\u001b[0;34m\u001b[0m\u001b[0m\n\u001b[1;32m     31\u001b[0m     \u001b[0mtotal_loss\u001b[0m \u001b[0;34m=\u001b[0m \u001b[0msum\u001b[0m\u001b[0;34m(\u001b[0m\u001b[0mloss_dict\u001b[0m\u001b[0;34m.\u001b[0m\u001b[0mvalues\u001b[0m\u001b[0;34m(\u001b[0m\u001b[0;34m)\u001b[0m\u001b[0;34m)\u001b[0m\u001b[0;34m\u001b[0m\u001b[0;34m\u001b[0m\u001b[0m\n\u001b[0;32m---> 32\u001b[0;31m     \u001b[0mtotal_loss\u001b[0m\u001b[0;34m.\u001b[0m\u001b[0mbackward\u001b[0m\u001b[0;34m(\u001b[0m\u001b[0;34m)\u001b[0m\u001b[0;34m\u001b[0m\u001b[0;34m\u001b[0m\u001b[0m\n\u001b[0m\u001b[1;32m     33\u001b[0m     \u001b[0moptim\u001b[0m\u001b[0;34m.\u001b[0m\u001b[0mstep\u001b[0m\u001b[0;34m(\u001b[0m\u001b[0;34m)\u001b[0m\u001b[0;34m\u001b[0m\u001b[0;34m\u001b[0m\u001b[0m\n\u001b[1;32m     34\u001b[0m \u001b[0;34m\u001b[0m\u001b[0m\n",
      "\u001b[0;32m/opt/anaconda3/lib/python3.7/site-packages/torch/tensor.py\u001b[0m in \u001b[0;36mbackward\u001b[0;34m(self, gradient, retain_graph, create_graph)\u001b[0m\n\u001b[1;32m    164\u001b[0m                 \u001b[0mproducts\u001b[0m\u001b[0;34m.\u001b[0m \u001b[0mDefaults\u001b[0m \u001b[0mto\u001b[0m\u001b[0;31m \u001b[0m\u001b[0;31m`\u001b[0m\u001b[0;31m`\u001b[0m\u001b[0;32mFalse\u001b[0m\u001b[0;31m`\u001b[0m\u001b[0;31m`\u001b[0m\u001b[0;34m.\u001b[0m\u001b[0;34m\u001b[0m\u001b[0;34m\u001b[0m\u001b[0m\n\u001b[1;32m    165\u001b[0m         \"\"\"\n\u001b[0;32m--> 166\u001b[0;31m         \u001b[0mtorch\u001b[0m\u001b[0;34m.\u001b[0m\u001b[0mautograd\u001b[0m\u001b[0;34m.\u001b[0m\u001b[0mbackward\u001b[0m\u001b[0;34m(\u001b[0m\u001b[0mself\u001b[0m\u001b[0;34m,\u001b[0m \u001b[0mgradient\u001b[0m\u001b[0;34m,\u001b[0m \u001b[0mretain_graph\u001b[0m\u001b[0;34m,\u001b[0m \u001b[0mcreate_graph\u001b[0m\u001b[0;34m)\u001b[0m\u001b[0;34m\u001b[0m\u001b[0;34m\u001b[0m\u001b[0m\n\u001b[0m\u001b[1;32m    167\u001b[0m \u001b[0;34m\u001b[0m\u001b[0m\n\u001b[1;32m    168\u001b[0m     \u001b[0;32mdef\u001b[0m \u001b[0mregister_hook\u001b[0m\u001b[0;34m(\u001b[0m\u001b[0mself\u001b[0m\u001b[0;34m,\u001b[0m \u001b[0mhook\u001b[0m\u001b[0;34m)\u001b[0m\u001b[0;34m:\u001b[0m\u001b[0;34m\u001b[0m\u001b[0;34m\u001b[0m\u001b[0m\n",
      "\u001b[0;32m/opt/anaconda3/lib/python3.7/site-packages/torch/autograd/__init__.py\u001b[0m in \u001b[0;36mbackward\u001b[0;34m(tensors, grad_tensors, retain_graph, create_graph, grad_variables)\u001b[0m\n\u001b[1;32m     97\u001b[0m     Variable._execution_engine.run_backward(\n\u001b[1;32m     98\u001b[0m         \u001b[0mtensors\u001b[0m\u001b[0;34m,\u001b[0m \u001b[0mgrad_tensors\u001b[0m\u001b[0;34m,\u001b[0m \u001b[0mretain_graph\u001b[0m\u001b[0;34m,\u001b[0m \u001b[0mcreate_graph\u001b[0m\u001b[0;34m,\u001b[0m\u001b[0;34m\u001b[0m\u001b[0;34m\u001b[0m\u001b[0m\n\u001b[0;32m---> 99\u001b[0;31m         allow_unreachable=True)  # allow_unreachable flag\n\u001b[0m\u001b[1;32m    100\u001b[0m \u001b[0;34m\u001b[0m\u001b[0m\n\u001b[1;32m    101\u001b[0m \u001b[0;34m\u001b[0m\u001b[0m\n",
      "\u001b[0;31mKeyboardInterrupt\u001b[0m: "
     ]
    }
   ],
   "source": [
    "torch.cuda.empty_cache()\n",
    "\n",
    "loss_scale = ws_seg.n_pixels * ws_seg.n_frames\n",
    "\n",
    "while i_iter < n_iters:\n",
    "    \n",
    "    if segmenter_config['t_batch_size'] is None:\n",
    "        t_index_tensor = None\n",
    "    else:\n",
    "        t_begin_index = np.random.randint(0, ws_seg.n_frames - segmenter_config['t_batch_size'] - 1)\n",
    "        t_end_index = t_begin_index + segmenter_config['t_batch_size']\n",
    "        t_index_tensor = torch.arange(\n",
    "            t_begin_index,\n",
    "            t_end_index,\n",
    "            device=device)\n",
    "\n",
    "#     def closure():\n",
    "#         optim.zero_grad()\n",
    "#         loss_dict = ws_seg.get_tau_marginalized_loss(t_index_tensor)\n",
    "#         total_loss = sum(loss_dict.values())\n",
    "#         total_loss.backward()\n",
    "#         return total_loss\n",
    "#     optim.step(closure)\n",
    "#     with torch.no_grad():\n",
    "#         loss_dict = ws_seg.get_tau_marginalized_loss(t_index_tensor)\n",
    "#     total_loss = sum(loss_dict.values())\n",
    "\n",
    "    # calculate gradient\n",
    "    optim.zero_grad()\n",
    "    loss_dict = ws_seg.get_tau_marginalized_loss(t_index_tensor)\n",
    "    total_loss = sum(loss_dict.values())\n",
    "    total_loss.backward()            \n",
    "    optim.step()\n",
    "    \n",
    "    if loss_hist_dict == None:\n",
    "        loss_hist_dict = dict()\n",
    "        loss_hist_dict['total_loss'] = []\n",
    "        for k in loss_dict.keys():\n",
    "            loss_hist_dict[k] = []\n",
    "    loss_hist_dict['total_loss'].append(total_loss.item() / loss_scale)\n",
    "    for k, v in loss_dict.items():\n",
    "        loss_hist_dict[k].append(v.item() / loss_scale)\n",
    "        \n",
    "    if i_iter % log_every == 0:\n",
    "        loss_repr = \"\"\n",
    "        for k, v in loss_hist_dict.items():\n",
    "            loss_repr += f\", {k}: {v[-1]:.3f}\"\n",
    "        print(f\"iter: {i_iter}{loss_repr}\")\n",
    "                \n",
    "    i_iter += 1"
   ]
  },
  {
   "cell_type": "code",
   "execution_count": 188,
   "metadata": {},
   "outputs": [
    {
     "data": {
      "text/plain": [
       "Parameter containing:\n",
       "tensor([8.7792, 8.4511, 8.7738, 8.7490, 8.5210, 8.5866, 8.8346, 8.8280, 8.7103,\n",
       "        8.7751, 8.5654, 8.9470, 8.8913, 8.7409, 8.7432, 8.6505, 8.7573, 8.7328,\n",
       "        8.8125, 8.7874, 8.8962, 8.8666, 8.8364, 8.7638, 8.6128, 9.0670, 8.9104,\n",
       "        8.9013, 8.8516, 8.7699, 8.8778, 8.7766, 8.7724, 8.8790, 8.7440, 8.6968,\n",
       "        8.8928, 8.7647, 8.8491, 8.8968, 8.8444, 8.9266, 8.8907, 8.6429, 8.7661,\n",
       "        8.9547, 8.9459, 8.8413, 8.7973, 8.7563, 8.9092, 8.7603, 8.6046, 8.7806,\n",
       "        8.7677, 8.8759, 8.6372, 8.8074, 8.7954, 8.7076, 8.8907, 8.9113, 8.8932,\n",
       "        9.0357, 8.9347, 8.9843, 9.0234, 8.8255, 8.8942, 8.9026, 9.0491, 9.0390,\n",
       "        8.9700, 8.8096, 8.7994], device='cuda:0', requires_grad=True)"
      ]
     },
     "execution_count": 188,
     "metadata": {},
     "output_type": "execute_result"
    }
   ],
   "source": [
    "ws_seg.log_lambda_ard_m"
   ]
  },
  {
   "cell_type": "code",
   "execution_count": 189,
   "metadata": {},
   "outputs": [
    {
     "data": {
      "text/plain": [
       "(tensor([], device='cuda:0', dtype=torch.int64),)"
      ]
     },
     "execution_count": 189,
     "metadata": {},
     "output_type": "execute_result"
    }
   ],
   "source": [
    "torch.where(ws_seg.log_lambda_ard_m < 0)"
   ]
  },
  {
   "cell_type": "code",
   "execution_count": 190,
   "metadata": {},
   "outputs": [],
   "source": [
    "tau_mt = ws_seg.get_tau_mt(torch.arange(0, 2000, device=device)).cpu().numpy()"
   ]
  },
  {
   "cell_type": "code",
   "execution_count": 198,
   "metadata": {},
   "outputs": [
    {
     "data": {
      "text/plain": [
       "<matplotlib.colorbar.Colorbar at 0x7ff42fbfde10>"
      ]
     },
     "execution_count": 198,
     "metadata": {},
     "output_type": "execute_result"
    },
    {
     "data": {
      "image/png": "[encoded data removed]",
      "text/plain": [
       "<Figure size 1080x360 with 2 Axes>"
      ]
     },
     "metadata": {
      "needs_background": "light"
     },
     "output_type": "display_data"
    }
   ],
   "source": [
    "idx = 2\n",
    "fig, ax = new_fig()\n",
    "im = ax.imshow(ws_seg.log_omega_mp[idx, :].detach().view(ws_base.width, ws_base.height).exp().cpu().numpy().T)\n",
    "plt.colorbar(im)"
   ]
  },
  {
   "cell_type": "code",
   "execution_count": 199,
   "metadata": {},
   "outputs": [
    {
     "data": {
      "text/plain": [
       "[<matplotlib.lines.Line2D at 0x7ff42fb0b0d0>]"
      ]
     },
     "execution_count": 199,
     "metadata": {},
     "output_type": "execute_result"
    },
    {
     "data": {
      "image/png": "[encoded data removed]",
      "text/plain": [
       "<Figure size 432x288 with 1 Axes>"
      ]
     },
     "metadata": {
      "needs_background": "light"
     },
     "output_type": "display_data"
    }
   ],
   "source": [
    "ax = plt.gca()\n",
    "ax.plot(tau_mt[idx, :])"
   ]
  },
  {
   "cell_type": "code",
   "execution_count": 200,
   "metadata": {},
   "outputs": [
    {
     "data": {
      "text/plain": [
       "(0, 500)"
      ]
     },
     "execution_count": 200,
     "metadata": {},
     "output_type": "execute_result"
    },
    {
     "data": {
      "image/png": "[encoded data removed]",
      "text/plain": [
       "<Figure size 432x288 with 2 Axes>"
      ]
     },
     "metadata": {
      "needs_background": "light"
     },
     "output_type": "display_data"
    }
   ],
   "source": [
    "ax = plt.gca()\n",
    "ax.plot(tau_mt[0, :])\n",
    "ax2 = ax.twinx()\n",
    "ax2.plot(tau_mt[1, :], color='red')\n",
    "ax.set_xlim((0, 500))"
   ]
  },
  {
   "cell_type": "markdown",
   "metadata": {},
   "source": [
    "## Exploration"
   ]
  },
  {
   "cell_type": "code",
   "execution_count": 88,
   "metadata": {},
   "outputs": [],
   "source": []
  },
  {
   "cell_type": "code",
   "execution_count": 15,
   "metadata": {},
   "outputs": [],
   "source": []
  },
  {
   "cell_type": "code",
   "execution_count": null,
   "metadata": {},
   "outputs": [],
   "source": []
  }
 ],
 "metadata": {
  "kernelspec": {
   "display_name": "Python 3",
   "language": "python",
   "name": "python3"
  },
  "language_info": {
   "codemirror_mode": {
    "name": "ipython",
    "version": 3
   },
   "file_extension": ".py",
   "mimetype": "text/x-python",
   "name": "python",
   "nbconvert_exporter": "python",
   "pygments_lexer": "ipython3",
   "version": "3.7.6"
  }
 },
 "nbformat": 4,
 "nbformat_minor": 4
}
