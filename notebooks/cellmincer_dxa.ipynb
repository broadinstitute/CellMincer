{
 "cells": [
  {
   "cell_type": "markdown",
   "metadata": {},
   "source": [
    "## Detrended and lagged cross correlations\n",
    "\n",
    "All possible features:\n",
    "\n",
    "Let $k$ be the number of nearest neighbors , $N$ be the set of detrending orders, $L$ be the set of lags, and $D$ be the set of pooling depths.\n",
    "\n",
    "We have $n + 1$ detrended movies, so there are $(k + 1) \\, |L| \\, |N| \\, |D| \\, $ NN x-correlations per pixel. Reasonable values are $N=\\{0, 1, 2\\}$, $L=\\{0, 1, 2\\}$, and $D=\\{0, 1, 2\\}$. Also, $k=8$. Therefore, there are $9 \\times 3 \\times 3 \\times 3 = 243$ features. More conservatively, we could have $9 \\times 2 \\times 2 \\times 2 = 72$ features."
   ]
  },
  {
   "cell_type": "code",
   "execution_count": 1,
   "metadata": {},
   "outputs": [],
   "source": [
    "%matplotlib inline\n",
    "\n",
    "import os\n",
    "import sys\n",
    "notebook_path = os.path.abspath('.')\n",
    "sources_path = os.path.abspath(os.path.join(notebook_path, '..'))\n",
    "sys.path.insert(0, sources_path)\n",
    "import yaml\n",
    "\n",
    "import matplotlib.pylab as plt\n",
    "import numpy as np\n",
    "import torch\n",
    "import logging\n",
    "\n",
    "from cellmincer.opto_ws import OptopatchBaseWorkspace\n",
    "from cellmincer.opto_features import OptopatchGlobalFeatureExtractor\n",
    "\n",
    "device = torch.device(\"cpu\")\n",
    "dtype = torch.float32\n",
    "\n",
    "def new_fig(figsize=(15, 5)):\n",
    "    fig = plt.figure(figsize=figsize)\n",
    "    ax = plt.gca()\n",
    "    return fig, ax\n",
    "\n",
    "logger = logging.getLogger()\n",
    "log_info = logger.warning\n",
    "\n",
    "torch.backends.cudnn.enabled = True\n",
    "torch.backends.cudnn.benchmark = True"
   ]
  },
  {
   "cell_type": "code",
   "execution_count": 2,
   "metadata": {},
   "outputs": [],
   "source": [
    "data_source = 'optosynth'\n",
    "\n",
    "\n",
    "if data_source == 'optosynth':\n",
    "    \n",
    "    data_dir = '/home/jupyter/bw-data/Optosynth'\n",
    "#     optosynth_runs = [(1, 5, 50), (2, 5, 50), (3, 5, 50), (4, 5, 50), (5, 5, 50)]\n",
    "#     optosynth_runs = [(1, 10, 200), (2, 10, 200), (3, 10, 200), (4, 10, 200), (5, 10, 200)]\n",
    "    optosynth_runs = [(1, 20, 50), (2, 20, 50), (3, 20, 50), (4, 20, 50), (5, 20, 50)]\n",
    "    opto_mov_prefixes = [f'optosynth_first_wave__{trial}__{neurons}__{noise}'\n",
    "        for trial, neurons, noise in optosynth_runs\n",
    "    ]\n",
    "\n",
    "elif data_source == 'sami':\n",
    "    \n",
    "    data_dir = '/home/jupyter/bw-data/Optopatch'\n",
    "    # names\n",
    "    opto_mov_prefixes = [\n",
    "        'D1_FOV3_W2_at135105',\n",
    "        'D4_FOV2_W2_at171603',\n",
    "        'D4_FOV3_W2_at172029',\n",
    "        'E3_FOV1_W2_at155440',\n",
    "        'F1_FOV2_W1_at143005'\n",
    "    ]\n",
    "\n",
    "else:\n",
    "    logger.warning('Unrecognized data source; please specify')\n",
    "\n",
    "# list of Optopatch movies\n",
    "opto_mov_path_list = [\n",
    "    os.path.join(data_dir, f'preproc-data/{prefix}_trend_subtracted.npy')\n",
    "    for prefix in opto_mov_prefixes]\n",
    "\n",
    "# output\n",
    "feature_path = os.path.join(data_dir, 'preproc-feature-data')\n",
    "\n",
    "if not os.path.exists(feature_path):\n",
    "    os.mkdir(feature_path)"
   ]
  },
  {
   "cell_type": "code",
   "execution_count": 19,
   "metadata": {},
   "outputs": [
    {
     "name": "stderr",
     "output_type": "stream",
     "text": [
      "Loading movie from /home/jupyter/bw-data/Optosynth/preproc-data/optosynth_first_wave__5__20__50_trend_subtracted.npy ...\n"
     ]
    }
   ],
   "source": [
    "i_dataset = 4\n",
    "\n",
    "if data_source == 'optosynth':\n",
    "    yaml_path = os.path.join(os.path.join(data_dir, 'data', opto_mov_prefixes[i_dataset], 'metadata/optosynth_params.yaml'))\n",
    "\n",
    "    with open(yaml_path, 'r') as stream:\n",
    "        try:\n",
    "            config = yaml.safe_load(stream)\n",
    "        except yaml.YAMLError as exc:\n",
    "            print(exc)\n",
    "    \n",
    "    n_segments = config['n_segments']\n",
    "    n_frames_per_segment = config['n_frames_per_segment']\n",
    "\n",
    "elif data_source == 'sami':\n",
    "    n_segments = 10\n",
    "\n",
    "ws_base = OptopatchBaseWorkspace.from_npy(opto_mov_path_list[i_dataset])"
   ]
  },
  {
   "cell_type": "code",
   "execution_count": 20,
   "metadata": {},
   "outputs": [
    {
     "name": "stderr",
     "output_type": "stream",
     "text": [
      "threshold: 0.337201987712511\n",
      "Calculating x-corr (0, -1, -1) at depth 0 for detrended movie...\n",
      "Calculating x-corr (0, -1, -1) at depth 0 for the trend...\n",
      "Calculating x-corr (0, -1, 0) at depth 0 for detrended movie...\n",
      "Calculating x-corr (0, -1, 0) at depth 0 for the trend...\n",
      "Calculating x-corr (0, -1, 1) at depth 0 for detrended movie...\n",
      "Calculating x-corr (0, -1, 1) at depth 0 for the trend...\n",
      "Calculating x-corr (0, 0, -1) at depth 0 for detrended movie...\n",
      "Calculating x-corr (0, 0, -1) at depth 0 for the trend...\n",
      "Calculating x-corr (0, 0, 1) at depth 0 for detrended movie...\n",
      "Calculating x-corr (0, 0, 1) at depth 0 for the trend...\n",
      "Calculating x-corr (0, 1, -1) at depth 0 for detrended movie...\n",
      "Calculating x-corr (0, 1, -1) at depth 0 for the trend...\n",
      "Calculating x-corr (0, 1, 0) at depth 0 for detrended movie...\n",
      "Calculating x-corr (0, 1, 0) at depth 0 for the trend...\n",
      "Calculating x-corr (0, 1, 1) at depth 0 for detrended movie...\n",
      "Calculating x-corr (0, 1, 1) at depth 0 for the trend...\n",
      "Calculating x-corr (1, -1, -1) at depth 0 for detrended movie...\n",
      "Calculating x-corr (1, -1, -1) at depth 0 for the trend...\n",
      "Calculating x-corr (1, -1, 0) at depth 0 for detrended movie...\n",
      "Calculating x-corr (1, -1, 0) at depth 0 for the trend...\n",
      "Calculating x-corr (1, -1, 1) at depth 0 for detrended movie...\n",
      "Calculating x-corr (1, -1, 1) at depth 0 for the trend...\n",
      "Calculating x-corr (1, 0, -1) at depth 0 for detrended movie...\n",
      "Calculating x-corr (1, 0, -1) at depth 0 for the trend...\n",
      "Calculating x-corr (1, 0, 0) at depth 0 for detrended movie...\n",
      "Calculating x-corr (1, 0, 0) at depth 0 for the trend...\n",
      "Calculating x-corr (1, 0, 1) at depth 0 for detrended movie...\n",
      "Calculating x-corr (1, 0, 1) at depth 0 for the trend...\n",
      "Calculating x-corr (1, 1, -1) at depth 0 for detrended movie...\n",
      "Calculating x-corr (1, 1, -1) at depth 0 for the trend...\n",
      "Calculating x-corr (1, 1, 0) at depth 0 for detrended movie...\n",
      "Calculating x-corr (1, 1, 0) at depth 0 for the trend...\n",
      "Calculating x-corr (1, 1, 1) at depth 0 for detrended movie...\n",
      "Calculating x-corr (1, 1, 1) at depth 0 for the trend...\n",
      "Downsampling to depth 1...\n",
      "Calculating x-corr (0, -1, -1) at depth 1 for detrended movie...\n",
      "Calculating x-corr (0, -1, -1) at depth 1 for the trend...\n",
      "Calculating x-corr (0, -1, 0) at depth 1 for detrended movie...\n",
      "Calculating x-corr (0, -1, 0) at depth 1 for the trend...\n",
      "Calculating x-corr (0, -1, 1) at depth 1 for detrended movie...\n",
      "Calculating x-corr (0, -1, 1) at depth 1 for the trend...\n",
      "Calculating x-corr (0, 0, -1) at depth 1 for detrended movie...\n",
      "Calculating x-corr (0, 0, -1) at depth 1 for the trend...\n",
      "Calculating x-corr (0, 0, 1) at depth 1 for detrended movie...\n",
      "Calculating x-corr (0, 0, 1) at depth 1 for the trend...\n",
      "Calculating x-corr (0, 1, -1) at depth 1 for detrended movie...\n",
      "Calculating x-corr (0, 1, -1) at depth 1 for the trend...\n",
      "Calculating x-corr (0, 1, 0) at depth 1 for detrended movie...\n",
      "Calculating x-corr (0, 1, 0) at depth 1 for the trend...\n",
      "Calculating x-corr (0, 1, 1) at depth 1 for detrended movie...\n",
      "Calculating x-corr (0, 1, 1) at depth 1 for the trend...\n",
      "Calculating x-corr (1, -1, -1) at depth 1 for detrended movie...\n",
      "Calculating x-corr (1, -1, -1) at depth 1 for the trend...\n",
      "Calculating x-corr (1, -1, 0) at depth 1 for detrended movie...\n",
      "Calculating x-corr (1, -1, 0) at depth 1 for the trend...\n",
      "Calculating x-corr (1, -1, 1) at depth 1 for detrended movie...\n",
      "Calculating x-corr (1, -1, 1) at depth 1 for the trend...\n",
      "Calculating x-corr (1, 0, -1) at depth 1 for detrended movie...\n",
      "Calculating x-corr (1, 0, -1) at depth 1 for the trend...\n",
      "Calculating x-corr (1, 0, 0) at depth 1 for detrended movie...\n",
      "Calculating x-corr (1, 0, 0) at depth 1 for the trend...\n",
      "Calculating x-corr (1, 0, 1) at depth 1 for detrended movie...\n",
      "Calculating x-corr (1, 0, 1) at depth 1 for the trend...\n",
      "Calculating x-corr (1, 1, -1) at depth 1 for detrended movie...\n",
      "Calculating x-corr (1, 1, -1) at depth 1 for the trend...\n",
      "Calculating x-corr (1, 1, 0) at depth 1 for detrended movie...\n",
      "Calculating x-corr (1, 1, 0) at depth 1 for the trend...\n",
      "Calculating x-corr (1, 1, 1) at depth 1 for detrended movie...\n",
      "Calculating x-corr (1, 1, 1) at depth 1 for the trend...\n"
     ]
    }
   ],
   "source": [
    "feature_extractor = OptopatchGlobalFeatureExtractor(\n",
    "    ws_base=ws_base,\n",
    "    logger=logger,\n",
    "    max_depth=1,\n",
    "    device=torch.device(\"cpu\"))"
   ]
  },
  {
   "cell_type": "code",
   "execution_count": 21,
   "metadata": {},
   "outputs": [
    {
     "data": {
      "text/plain": [
       "[<matplotlib.lines.Line2D at 0x7fec613d4bd0>]"
      ]
     },
     "execution_count": 21,
     "metadata": {},
     "output_type": "execute_result"
    },
    {
     "data": {
      "image/png": "[encoded data removed]",
      "text/plain": [
       "<Figure size 432x288 with 2 Axes>"
      ]
     },
     "metadata": {
      "needs_background": "light"
     },
     "output_type": "display_data"
    }
   ],
   "source": [
    "fig = plt.figure()\n",
    "ax = plt.gca()\n",
    "ax2 = ax.twinx()\n",
    "ax.plot(np.mean(ws_base.movie_txy, axis=(-1, -2)), color='black')\n",
    "ax2.plot(feature_extractor.active_mask_t, color='red')"
   ]
  },
  {
   "cell_type": "markdown",
   "metadata": {},
   "source": [
    "## Save features"
   ]
  },
  {
   "cell_type": "code",
   "execution_count": 22,
   "metadata": {},
   "outputs": [],
   "source": [
    "import pickle\n",
    "with open(os.path.join(feature_path, opto_mov_prefixes[i_dataset] + \"__features.pkl\"), 'wb') as f:\n",
    "    pickle.dump(feature_extractor.features, f)"
   ]
  },
  {
   "cell_type": "markdown",
   "metadata": {},
   "source": [
    "## Exploration"
   ]
  },
  {
   "cell_type": "code",
   "execution_count": null,
   "metadata": {},
   "outputs": [
    {
     "name": "stdout",
     "output_type": "stream",
     "text": [
      "trend_std_0\n",
      "0\n"
     ]
    },
    {
     "data": {
      "text/plain": [
       "<matplotlib.colorbar.Colorbar at 0x7fec61312d50>"
      ]
     },
     "execution_count": 23,
     "metadata": {},
     "output_type": "execute_result"
    }
   ],
   "source": [
    "fig = plt.figure(figsize=(20, 6))\n",
    "\n",
    "features = feature_extractor.features\n",
    "\n",
    "idx = 1\n",
    "print(features.feature_name_list[idx])\n",
    "print(features.feature_depth_list[idx])\n",
    "im = plt.imshow(features.feature_array_list[idx].T)\n",
    "plt.colorbar(im)"
   ]
  },
  {
   "cell_type": "code",
   "execution_count": null,
   "metadata": {},
   "outputs": [],
   "source": []
  }
 ],
 "metadata": {
  "environment": {
   "name": "pytorch-gpu.1-8.m65",
   "type": "gcloud",
   "uri": "gcr.io/deeplearning-platform-release/pytorch-gpu.1-8:m65"
  },
  "kernelspec": {
   "display_name": "Python 3",
   "language": "python",
   "name": "python3"
  },
  "language_info": {
   "codemirror_mode": {
    "name": "ipython",
    "version": 3
   },
   "file_extension": ".py",
   "mimetype": "text/x-python",
   "name": "python",
   "nbconvert_exporter": "python",
   "pygments_lexer": "ipython3",
   "version": "3.7.10"
  }
 },
 "nbformat": 4,
 "nbformat_minor": 4
}
